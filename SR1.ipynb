{
 "cells": [
  {
   "cell_type": "markdown",
   "id": "887de0e7-c2c2-4a94-bcb0-9716a4134d4a",
   "metadata": {},
   "source": [
    "Justification of Suitability:\n",
    "Data Completeness:\n",
    "Coverage: The dataset covers informal settlements  , providing comprehensive information about various settlements within the region.\n",
    "Attributes: It includes multiple attributes such as pocket name, average household size, density of dwellings, infrastructure facilities, and geographical coordinates, offering a well-rounded view of informal settlements.\n",
    "\n",
    "This dataset was found in this https://data.openup.org.za/dataset?tags=settlements&q=informal+settlement\n",
    "Format: \"C:\\Users\\CC\\settlement.csv\"\n",
    "\n",
    "Relevance:\n",
    "\n",
    "Pocket Name: This column identifies the names of different informal settlements, allowing for specific analysis and comparison between settlements.\n",
    "\n",
    "\n",
    "Density of Dwellings: Understanding the density of dwellings provides insights into the population density within informal settlements, which is crucial for assessing living conditions and infrastructure needs.\n",
    "\n"
   ]
  },
  {
   "cell_type": "code",
   "execution_count": null,
   "id": "c2f936e6-3ad2-4e16-a55b-1853024f5cd6",
   "metadata": {},
   "outputs": [],
   "source": []
  },
  {
   "cell_type": "code",
   "execution_count": null,
   "id": "542e4c79-c725-47f0-bc35-dfd76157e5ae",
   "metadata": {},
   "outputs": [],
   "source": []
  }
 ],
 "metadata": {
  "kernelspec": {
   "display_name": "Python 3 (ipykernel)",
   "language": "python",
   "name": "python3"
  },
  "language_info": {
   "codemirror_mode": {
    "name": "ipython",
    "version": 3
   },
   "file_extension": ".py",
   "mimetype": "text/x-python",
   "name": "python",
   "nbconvert_exporter": "python",
   "pygments_lexer": "ipython3",
   "version": "3.11.7"
  }
 },
 "nbformat": 4,
 "nbformat_minor": 5
}
