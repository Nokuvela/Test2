{
 "cells": [
  {
   "cell_type": "code",
   "execution_count": 2,
   "id": "36562755-6f4c-4787-a8b7-ae9d1235d5cd",
   "metadata": {},
   "outputs": [],
   "source": [
    "import pandas as pd"
   ]
  },
  {
   "cell_type": "code",
   "execution_count": 10,
   "id": "231bbb8c-791e-408a-b650-b5e2222ee646",
   "metadata": {},
   "outputs": [],
   "source": [
    "dataframe = pd.read_csv(\"C:/Users/CC/settlement.csv\")\n",
    " "
   ]
  },
  {
   "cell_type": "code",
   "execution_count": 16,
   "id": "63a9ebc1-b4a8-4429-912c-e93d0bae2086",
   "metadata": {},
   "outputs": [],
   "source": [
    " def selection_sort(arr):\n",
    "    n = len(arr)\n",
    "    for i in range(n - 1):\n",
    "        min_idx = i\n",
    "        for j in range(i + 1, n):\n",
    "            if arr[j] < arr[min_idx]:\n",
    "                min_idx = j\n",
    "        arr[i], arr[min_idx] = arr[min_idx], arr[i]\n",
    "\n",
    "\n"
   ]
  },
  {
   "cell_type": "code",
   "execution_count": 24,
   "id": "b0db7886-b95a-4c1b-9081-8ddbbe609dff",
   "metadata": {},
   "outputs": [
    {
     "name": "stdout",
     "output_type": "stream",
     "text": [
      "Sorted 'area_ha' column: [2.952, 0.07, 1.711, 0.088, 2.661, 0.01, 0.759, 1.697, 0.603, 1.783, 0.517, 44.355, 0.308, 0.501, 0.389, 1.447, 30.069, 0.021, 0.524, 2.454, 2.156, 5.524, 0.586, 3.739, 16.179, 14.976, 0.184, 0.149, 0.033, 0.073, 0.313, 0.12, 0.056, 0.075, 0.056, 0.08, 0.107, 0.178, 0.179, 0.214, 0.147, 0.136, 0.13, 0.118, 21.672, 26.531, 0.178, 0.19, 10.17, 0.03, 0.084, 0.111, 0.107, 0.577, 0.211, 0.548, 0.136, 0.15, 0.061, 0.098, 0.048, 0.06, 0.05, 0.539, 0.101, 0.113, 0.278, 0.1, 0.243, 0.118, 0.115, 26.433, 0.109, 0.263, 5.432, 1.056, 0.24, 6.61, 1.403, 13.925, 0.11, 0.339, 0.25, 0.272, 0.247, 0.133, 0.069, 0.283, 0.114, 0.139, 2.181, 1.527, 2.692, 0.511, 2.332, 0.502, 0.345, 7.297, 0.657, 0.389, 81.597, 25.377, 1.1, 1.311, 0.443, 0.706, 43.648, 7.513, 0.421, 0.662, 0.422, 0.151, 15.019, 0.952, 5.1, 0.227, 2.226, 1.622, 0.541, 0.949, 17.292, 8.233, 1.645, 0.238, 0.214, 0.702, 0.666, 0.44, 0.203, 0.064, 0.177, 3.879, 0.432, 1.198, 0.412, 2.361, 2.381, 5.134, 0.653, 0.198, 0.129, 2.953, 0.117, 0.856, 0.219, 0.152, 0.219, 0.059, 5.625, 1.706, 7.464, 0.957, 4.843, 3.207, 3.801, 0.55, 0.137, 20.614, 0.728, 1.406, 7.691, 0.544, 0.131, 23.141, 0.405, 0.182, 0.227, 64.122, 8.601, 0.387, 0.112, 28.644, 0.023, 0.143, 0.085, 0.075, 6.82, 0.157, 0.093, 0.105, 0.056, 0.166, 0.091, 0.115, 0.077, 0.07, 0.066, 0.027, 0.102, 0.105, 0.128, 0.099, 0.185, 0.309, 0.041, 0.307, 0.389, 1.162, 2.004, 7.578, 7.082, 6.912, 3.247, 0.35, 0.162, 0.134, 0.121, 0.098, 0.056, 0.404, 0.164, 0.67, 0.061, 0.274, 0.88, 1.023, 15.711, 4.031, 0.048, 0.293, 0.047, 0.065, 0.089, 0.07, 0.41, 1.967, 7.411, 0.101, 0.071, 0.455, 0.144, 0.093, 0.231, 0.043, 0.149, 0.839, 0.172, 0.215, 0.185, 0.093, 0.414, 0.093, 1.265, 0.06, 0.113, 0.552, 0.204, 0.586, 0.027, 0.29, 3.039, 0.43, 66.316, 9.912, 2.875, 5.647, 2.567, 1.628, 0.305, 1.303, 1.366, 0.63, 0.212, 0.184, 0.146, 0.408, 0.202, 0.177, 0.203, 0.208, 0.194, 0.175, 0.424, 1.312, 0.288, 0.415, 0.088, 0.309, 0.133, 0.087, 0.094, 0.23, 0.137, 13.141, 0.604, 0.547, 2.473, 5.921, 0.101, 3.546, 3.539, 4.209, 9.981, 3.566, 3.044, 0.186, 3.816, 1.386, 3.37, 5.036, 8.337, 11.546, 1.286, 5.264, 1.669, 5.69, 1.094, 0.215, 0.871, 0.098, 17.925, 0.032, 0.233, 0.133, 0.331, 0.099, 0.487, 0.603, 0.123, 0.152, 0.103, 0.346, 0.662, 0.143, 0.156, 0.053, 0.204, 3.265, 0.12, 0.527, 1.666, 0.244, 3.708, 2.751, 669.406, 12.443, 16.066, 2.076, 1.058, 0.846, 0.534, 0.203, 0.133, 0.298, 0.161, 0.728, 0.137, 0.083, 0.147, 0.049, 0.057, 0.474, 0.313, 0.209, 0.292, 0.155, 0.25, 0.068, 0.153, 0.665, 5.212, 0.278, 0.935, 0.233, 0.154, 1.922, 0.093, 0.525, 0.859, 0.385, 0.057, 1.315, 1.203, 22.732, 0.327, 15.909, 4.723, 5.533, 4.767, 2.387, 18.325, 1.551, 9.999, 1.454, 2.222, 3.137, 0.317, 4.826, 0.952, 2.499, 0.929, 2.473, 3.911, 0.248, 0.183, 0.172, 0.177, 0.175, 0.168, 0.178, 0.231, 0.107, 0.345, 0.196, 9.669, 0.388, 1.85, 0.952, 0.05, 1.189, 0.545, 1.619, 0.16, 0.131, 0.136, 0.062, 0.139, 0.345, 7.031, 2.121, 1.34, 0.025, 0.331, 30.416, 1.188, 0.464, 12.155, 2.904, 0.939, 7.889, 1.34, 0.973, 0.801, 0.092]\n"
     ]
    }
   ],
   "source": [
    "area_ha = dataframe['area_ha'].tolist()\n",
    "selection_sort(area_ha_column)\n",
    "print(\"Sorted 'area_ha' column:\", area_ha)"
   ]
  },
  {
   "cell_type": "markdown",
   "id": "e29c0a37-2f11-40cb-ae44-aceffe215dd2",
   "metadata": {},
   "source": [
    "Binary search has a time complexity of O(log n), where n is the number of elements in the dataset. This means that the time taken to search for an element grows logarithmically with the size of the dataset. As the dataset size increases, binary search becomes significantly faster compared to linear search.\n",
    "Linear search, on the other hand, has a time complexity of O(n), meaning that the time taken increases linearly with the size of the dataset. In large datasets, linear search may require a significant number of comparisons, leading to slower performance compared to binary search.\n",
    "Binary search efficiently reduces the search space by half in each iteration by comparing the target element with the middle element of the dataset. This divide-and-conquer approach allows binary search to quickly narrow down the search area and locate the target element with fewer comparisons."
   ]
  },
  {
   "cell_type": "code",
   "execution_count": null,
   "id": "d8586068-ae8c-426e-8846-7745dbdb2a04",
   "metadata": {},
   "outputs": [],
   "source": [
    " def linear_search(arr, target):\n",
    "    for i in range(len(arr)):\n",
    "        if arr[i] == target:\n",
    "            return i\n",
    "    return -1"
   ]
  },
  {
   "cell_type": "code",
   "execution_count": null,
   "id": "baa03330-b06d-494a-8514-19aa1df46a47",
   "metadata": {},
   "outputs": [],
   "source": [
    " def binary_search(arr, target):\n",
    "    low = 0\n",
    "    high = len(arr) - 1\n",
    "    while low <= high:\n",
    "        mid = (low + high) // 2\n",
    "        if arr[mid] == target:\n",
    "            return mid\n",
    "        elif arr[mid] < target:\n",
    "            low = mid + 1\n",
    "        else:\n",
    "            high = mid - 1\n",
    "    return -1\n"
   ]
  },
  {
   "cell_type": "code",
   "execution_count": 33,
   "id": "4fb240d1-3837-494e-8894-748eb22a017e",
   "metadata": {},
   "outputs": [
    {
     "name": "stdout",
     "output_type": "stream",
     "text": [
      "Linear Search Result: -1\n",
      "Binary Search Result: -1\n"
     ]
    }
   ],
   "source": [
    " \n",
    "area_ha_column = sorted(dataframe['area_ha'].tolist()) \n",
    "target_element = 0.523973 \n",
    "\n",
    " \n",
    "linear_result = linear_search(area_ha_column, target_element)\n",
    "print(\"Linear Search Result:\", linear_result)\n",
    "\n",
    " \n",
    "binary_result = binary_search(area_ha_column, target_element)\n",
    "print(\"Binary Search Result:\", binary_result)"
   ]
  },
  {
   "cell_type": "code",
   "execution_count": null,
   "id": "aac6ac77-a2cb-40cf-a1c9-d77bca9957d1",
   "metadata": {},
   "outputs": [],
   "source": []
  }
 ],
 "metadata": {
  "kernelspec": {
   "display_name": "Python 3 (ipykernel)",
   "language": "python",
   "name": "python3"
  },
  "language_info": {
   "codemirror_mode": {
    "name": "ipython",
    "version": 3
   },
   "file_extension": ".py",
   "mimetype": "text/x-python",
   "name": "python",
   "nbconvert_exporter": "python",
   "pygments_lexer": "ipython3",
   "version": "3.11.7"
  }
 },
 "nbformat": 4,
 "nbformat_minor": 5
}
